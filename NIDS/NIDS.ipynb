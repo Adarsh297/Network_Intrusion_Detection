{
 "cells": [
  {
   "cell_type": "code",
   "execution_count": null,
   "id": "60c510de",
   "metadata": {},
   "outputs": [],
   "source": [
    "import os\n",
    "import pandas as pd\n",
    "import numpy as np\n",
    "import matplotlib.pyplot as plt\n",
    "import seaborn as sns\n",
    "import time\n",
    "\n",
    "# reading features list\n",
    "with open(\"..\\\\kddcup.names\", 'r') as f:\n",
    "\tprint(f.read())\n"
   ]
  },
  {
   "cell_type": "code",
   "execution_count": 5,
   "id": "b5a081b7",
   "metadata": {},
   "outputs": [
    {
     "name": "stdout",
     "output_type": "stream",
     "text": [
      "42\n"
     ]
    }
   ],
   "source": [
    "\n",
    "cols =\"\"\"duration,\n",
    "protocol_type,\n",
    "service,\n",
    "flag,\n",
    "src_bytes,\n",
    "dst_bytes,\n",
    "land,\n",
    "wrong_fragment,\n",
    "urgent,\n",
    "hot,\n",
    "num_failed_logins,\n",
    "logged_in,\n",
    "num_compromised,\n",
    "root_shell,\n",
    "su_attempted,\n",
    "num_root,\n",
    "num_file_creations,\n",
    "num_shells,\n",
    "num_access_files,\n",
    "num_outbound_cmds,\n",
    "is_host_login,\n",
    "is_guest_login,\n",
    "count,\n",
    "srv_count,\n",
    "serror_rate,\n",
    "srv_serror_rate,\n",
    "rerror_rate,\n",
    "srv_rerror_rate,\n",
    "same_srv_rate,\n",
    "diff_srv_rate,\n",
    "srv_diff_host_rate,\n",
    "dst_host_count,\n",
    "dst_host_srv_count,\n",
    "dst_host_same_srv_rate,\n",
    "dst_host_diff_srv_rate,\n",
    "dst_host_same_src_port_rate,\n",
    "dst_host_srv_diff_host_rate,\n",
    "dst_host_serror_rate,\n",
    "dst_host_srv_serror_rate,\n",
    "dst_host_rerror_rate,\n",
    "dst_host_srv_rerror_rate\"\"\"\n",
    "\n",
    "columns =[]\n",
    "for c in cols.split(', '):\n",
    "\tif(c.strip()):\n",
    "\t    columns.append(c.strip())\n",
    "\n",
    "columns.append('target')\n",
    "print(len(columns))"
   ]
  },
  {
   "cell_type": "code",
   "execution_count": null,
   "id": "cf8f73d4",
   "metadata": {},
   "outputs": [],
   "source": [
    "\n",
    "\n",
    "with open(\"..\\\\training_attack_types\", 'r') as f:\n",
    "\tprint(f.read())\n"
   ]
  },
  {
   "cell_type": "code",
   "execution_count": null,
   "id": "2c717358",
   "metadata": {},
   "outputs": [],
   "source": [
    "\n",
    "attacks_types = {\n",
    "\t'normal': 'normal',\n",
    "'back': 'dos',\n",
    "'buffer_overflow': 'u2r',\n",
    "'ftp_write': 'r2l',\n",
    "'guess_passwd': 'r2l',\n",
    "'imap': 'r2l',\n",
    "'ipsweep': 'probe',\n",
    "'land': 'dos',\n",
    "'loadmodule': 'u2r',\n",
    "'multihop': 'r2l',\n",
    "'neptune': 'dos',\n",
    "'nmap': 'probe',\n",
    "'perl': 'u2r',\n",
    "'phf': 'r2l',\n",
    "'pod': 'dos',\n",
    "'portsweep': 'probe',\n",
    "'rootkit': 'u2r',\n",
    "'satan': 'probe',\n",
    "'smurf': 'dos',\n",
    "'spy': 'r2l',\n",
    "'teardrop': 'dos',\n",
    "'warezclient': 'r2l',\n",
    "'warezmaster': 'r2l',\n",
    "}\n",
    "\n",
    "path = \"..\\\\kddcup.data_10_percent.gz\"\n",
    "df = pd.read_csv(path, names = columns)\n",
    "\n",
    "# Adding Attack Type column\n",
    "df['Attack Type'] = df.target.apply(lambda r:attacks_types[r[:-1]])\n",
    "df.head()\n",
    "\n",
    "\n",
    "df.shape\n"
   ]
  },
  {
   "cell_type": "code",
   "execution_count": null,
   "id": "8dec7b0f",
   "metadata": {},
   "outputs": [],
   "source": [
    "df.isnull().sum()\n",
    "\n"
   ]
  },
  {
   "cell_type": "code",
   "execution_count": null,
   "id": "d4df6acb",
   "metadata": {},
   "outputs": [],
   "source": [
    "# Finding categorical features\n",
    "num_cols = df._get_numeric_data().columns\n",
    "\n",
    "cate_cols = list(set(df.columns)-set(num_cols))\n",
    "cate_cols.remove('target')\n",
    "cate_cols.remove('Attack Type')\n",
    "\n",
    "cate_cols\n",
    "\n"
   ]
  },
  {
   "cell_type": "code",
   "execution_count": null,
   "id": "b7d163a6",
   "metadata": {},
   "outputs": [],
   "source": [
    "\n",
    "\n",
    "df = df.dropna('columns')# drop columns with NaN\n",
    "\n",
    "df = df[[col for col in df if df[col].nunique() > 1]]# keep columns where there are more than 1 unique values\n",
    "\n",
    "corr = df.corr()\n",
    "\n",
    "plt.figure(figsize =(15, 12))\n",
    "\n",
    "sns.heatmap(corr)\n",
    "\n",
    "plt.show()\n",
    "\n"
   ]
  },
  {
   "cell_type": "code",
   "execution_count": null,
   "id": "5323fa2e",
   "metadata": {},
   "outputs": [],
   "source": [
    "\n",
    "\n",
    "# This variable is highly correlated with num_compromised and should be ignored for analysis.\n",
    "#(Correlation = 0.9938277978738366)\n",
    "df.drop('num_root', axis = 1, inplace = True)\n",
    "\n",
    "# This variable is highly correlated with serror_rate and should be ignored for analysis.\n",
    "#(Correlation = 0.9983615072725952)\n",
    "df.drop('srv_serror_rate', axis = 1, inplace = True)\n",
    "\n",
    "# This variable is highly correlated with rerror_rate and should be ignored for analysis.\n",
    "#(Correlation = 0.9947309539817937)\n",
    "df.drop('srv_rerror_rate', axis = 1, inplace = True)\n",
    "\n",
    "# This variable is highly correlated with srv_serror_rate and should be ignored for analysis.\n",
    "#(Correlation = 0.9993041091850098)\n",
    "df.drop('dst_host_srv_serror_rate', axis = 1, inplace = True)\n",
    "\n",
    "# This variable is highly correlated with rerror_rate and should be ignored for analysis.\n",
    "#(Correlation = 0.9869947924956001)\n",
    "df.drop('dst_host_serror_rate', axis = 1, inplace = True)\n",
    "\n",
    "# This variable is highly correlated with srv_rerror_rate and should be ignored for analysis.\n",
    "#(Correlation = 0.9821663427308375)\n",
    "df.drop('dst_host_rerror_rate', axis = 1, inplace = True)\n",
    "\n",
    "# This variable is highly correlated with rerror_rate and should be ignored for analysis.\n",
    "#(Correlation = 0.9851995540751249)\n",
    "df.drop('dst_host_srv_rerror_rate', axis = 1, inplace = True)\n",
    "\n",
    "# This variable is highly correlated with srv_rerror_rate and should be ignored for analysis.\n",
    "#(Correlation = 0.9865705438845669)\n",
    "df.drop('dst_host_same_srv_rate', axis = 1, inplace = True)\n",
    "\n"
   ]
  },
  {
   "cell_type": "code",
   "execution_count": null,
   "id": "4113b7dd",
   "metadata": {},
   "outputs": [],
   "source": [
    "\n",
    "# protocol_type feature mapping\n",
    "pmap = {'icmp':0, 'tcp':1, 'udp':2}\n",
    "df['protocol_type'] = df['protocol_type'].map(pmap)\n",
    "\n",
    "\n",
    "# flag feature mapping\n",
    "fmap = {'SF':0, 'S0':1, 'REJ':2, 'RSTR':3, 'RSTO':4, 'SH':5, 'S1':6, 'S2':7, 'RSTOS0':8, 'S3':9, 'OTH':10}\n",
    "df['flag'] = df['flag'].map(fmap)\n",
    "\n",
    "\n",
    "df.drop('service', axis = 1, inplace = True)\n"
   ]
  },
  {
   "cell_type": "code",
   "execution_count": null,
   "id": "98705e70",
   "metadata": {},
   "outputs": [],
   "source": [
    "\n",
    "from sklearn.model_selection import train_test_split\n",
    "from sklearn.preprocessing import MinMaxScaler\n",
    "\n",
    "\n",
    "# Splitting the dataset\n",
    "df = df.drop(['target', ], axis = 1)\n",
    "print(df.shape)\n",
    "\n",
    "# Target variable and train set\n",
    "y = df[['Attack Type']]\n",
    "X = df.drop(['Attack Type', ], axis = 1)\n",
    "\n",
    "sc = MinMaxScaler()\n",
    "X = sc.fit_transform(X)\n",
    "\n",
    "# Split test and train data\n",
    "X_train, X_test, y_train, y_test = train_test_split(X, y, test_size = 0.33, random_state = 42)\n",
    "print(X_train.shape, X_test.shape)\n",
    "print(y_train.shape, y_test.shape)\n",
    "\n"
   ]
  },
  {
   "cell_type": "code",
   "execution_count": null,
   "id": "ea15f92d",
   "metadata": {},
   "outputs": [],
   "source": [
    "\n",
    "# Gaussian Naive Bayes\n",
    "from sklearn.naive_bayes import GaussianNB\n",
    "from sklearn.metrics import accuracy_score\n",
    "\n",
    "clfg = GaussianNB()\n",
    "start_time = time.time()\n",
    "clfg.fit(X_train, y_train.values.ravel())\n",
    "end_time = time.time()\n",
    "print(\"Training time: \", end_time-start_time)\n",
    "\n"
   ]
  },
  {
   "cell_type": "code",
   "execution_count": null,
   "id": "bf78cb7b",
   "metadata": {},
   "outputs": [],
   "source": [
    "\n",
    "start_time = time.time()\n",
    "y_test_pred = clfg.predict(X_train)\n",
    "end_time = time.time()\n",
    "print(\"Testing time: \", end_time-start_time)\n",
    "\n"
   ]
  },
  {
   "cell_type": "code",
   "execution_count": null,
   "id": "fdf85340",
   "metadata": {},
   "outputs": [],
   "source": [
    "\n",
    "print(\"Train score is:\", clfg.score(X_train, y_train))\n",
    "print(\"Test score is:\", clfg.score(X_test, y_test))\n",
    "\n"
   ]
  },
  {
   "cell_type": "code",
   "execution_count": null,
   "id": "f2b7b7d4",
   "metadata": {},
   "outputs": [],
   "source": [
    "\n",
    "# Decision Tree\n",
    "from sklearn.tree import DecisionTreeClassifier\n",
    "\n",
    "clfd = DecisionTreeClassifier(criterion =\"entropy\", max_depth = 4)\n",
    "start_time = time.time()\n",
    "clfd.fit(X_train, y_train.values.ravel())\n",
    "end_time = time.time()\n",
    "print(\"Training time: \", end_time-start_time)\n",
    "\n"
   ]
  },
  {
   "cell_type": "code",
   "execution_count": null,
   "id": "47bc7d0f",
   "metadata": {},
   "outputs": [],
   "source": [
    "\n",
    "start_time = time.time()\n",
    "y_test_pred = clfd.predict(X_train)\n",
    "end_time = time.time()\n",
    "print(\"Testing time: \", end_time-start_time)\n",
    "\n"
   ]
  },
  {
   "cell_type": "code",
   "execution_count": null,
   "id": "5ba2a479",
   "metadata": {},
   "outputs": [],
   "source": [
    "\n",
    "print(\"Train score is:\", clfd.score(X_train, y_train))\n",
    "print(\"Test score is:\", clfd.score(X_test, y_test))\n",
    "\n"
   ]
  },
  {
   "cell_type": "code",
   "execution_count": null,
   "id": "24942d0d",
   "metadata": {},
   "outputs": [],
   "source": [
    "\n",
    "from sklearn.ensemble import RandomForestClassifier\n",
    "\n",
    "clfr = RandomForestClassifier(n_estimators = 30)\n",
    "start_time = time.time()\n",
    "clfr.fit(X_train, y_train.values.ravel())\n",
    "end_time = time.time()\n",
    "print(\"Training time: \", end_time-start_time)\n",
    "\n"
   ]
  },
  {
   "cell_type": "code",
   "execution_count": null,
   "id": "19dc03c4",
   "metadata": {},
   "outputs": [],
   "source": [
    "\n",
    "start_time = time.time()\n",
    "y_test_pred = clfr.predict(X_train)\n",
    "end_time = time.time()\n",
    "print(\"Testing time: \", end_time-start_time)\n",
    "\n"
   ]
  },
  {
   "cell_type": "code",
   "execution_count": null,
   "id": "b0592f8d",
   "metadata": {},
   "outputs": [],
   "source": [
    "\n",
    "print(\"Train score is:\", clfr.score(X_train, y_train))\n",
    "print(\"Test score is:\", clfr.score(X_test, y_test))\n",
    "\n"
   ]
  },
  {
   "cell_type": "code",
   "execution_count": null,
   "id": "5cb9c620",
   "metadata": {},
   "outputs": [],
   "source": [
    "\n",
    "from sklearn.svm import SVC\n",
    "\n",
    "clfs = SVC(gamma = 'scale')\n",
    "start_time = time.time()\n",
    "clfs.fit(X_train, y_train.values.ravel())\n",
    "end_time = time.time()\n",
    "print(\"Training time: \", end_time-start_time)\n",
    "\n"
   ]
  },
  {
   "cell_type": "code",
   "execution_count": null,
   "id": "6b28e0c4",
   "metadata": {},
   "outputs": [],
   "source": [
    "\n",
    "start_time = time.time()\n",
    "y_test_pred = clfs.predict(X_train)\n",
    "end_time = time.time()\n",
    "print(\"Testing time: \", end_time-start_time)\n",
    "\n"
   ]
  },
  {
   "cell_type": "code",
   "execution_count": null,
   "id": "939498f6",
   "metadata": {},
   "outputs": [],
   "source": [
    "\n",
    "print(\"Train score is:\", clfs.score(X_train, y_train))\n",
    "print(\"Test score is:\", clfs.score(X_test, y_test))\n",
    "\n"
   ]
  },
  {
   "cell_type": "code",
   "execution_count": null,
   "id": "6e15316f",
   "metadata": {},
   "outputs": [],
   "source": [
    "\n",
    "from sklearn.linear_model import LogisticRegression\n",
    "\n",
    "clfl = LogisticRegression(max_iter = 1200000)\n",
    "start_time = time.time()\n",
    "clfl.fit(X_train, y_train.values.ravel())\n",
    "end_time = time.time()\n",
    "print(\"Training time: \", end_time-start_time)\n",
    "\n"
   ]
  },
  {
   "cell_type": "code",
   "execution_count": null,
   "id": "f997cadf",
   "metadata": {},
   "outputs": [],
   "source": [
    "\n",
    "start_time = time.time()\n",
    "y_test_pred = clfl.predict(X_train)\n",
    "end_time = time.time()\n",
    "print(\"Testing time: \", end_time-start_time)\n",
    "\n"
   ]
  },
  {
   "cell_type": "code",
   "execution_count": null,
   "id": "5e57f92b",
   "metadata": {},
   "outputs": [],
   "source": [
    "\n",
    "print(\"Train score is:\", clfl.score(X_train, y_train))\n",
    "print(\"Test score is:\", clfl.score(X_test, y_test))\n",
    "\n"
   ]
  },
  {
   "cell_type": "code",
   "execution_count": null,
   "id": "aa4863e4",
   "metadata": {},
   "outputs": [],
   "source": [
    "\n",
    "from sklearn.ensemble import GradientBoostingClassifier\n",
    "\n",
    "clfg = GradientBoostingClassifier(random_state = 0)\n",
    "start_time = time.time()\n",
    "clfg.fit(X_train, y_train.values.ravel())\n",
    "end_time = time.time()\n",
    "print(\"Training time: \", end_time-start_time)\n",
    "\n"
   ]
  },
  {
   "cell_type": "code",
   "execution_count": null,
   "id": "4ceca759",
   "metadata": {},
   "outputs": [],
   "source": [
    "\n",
    "start_time = time.time()\n",
    "y_test_pred = clfg.predict(X_train)\n",
    "end_time = time.time()\n",
    "print(\"Testing time: \", end_time-start_time)\n",
    "\n"
   ]
  },
  {
   "cell_type": "code",
   "execution_count": null,
   "id": "2c915605",
   "metadata": {},
   "outputs": [],
   "source": [
    "\n",
    "print(\"Train score is:\", clfg.score(X_train, y_train))\n",
    "print(\"Test score is:\", clfg.score(X_test, y_test))\n",
    "\n"
   ]
  },
  {
   "cell_type": "code",
   "execution_count": null,
   "id": "e62fd201",
   "metadata": {},
   "outputs": [],
   "source": [
    "#Analyse the training and testing accuracy of each model.\n",
    "names = ['NB', 'DT', 'RF', 'SVM', 'LR', 'GB']\n",
    "values = [87.951, 99.058, 99.997, 99.875, 99.352, 99.793]\n",
    "f = plt.figure(figsize =(15, 3), num = 10)\n",
    "plt.subplot(131)\n",
    "plt.bar(names, values)\n"
   ]
  },
  {
   "cell_type": "code",
   "execution_count": null,
   "id": "7b9b0847",
   "metadata": {},
   "outputs": [],
   "source": [
    "\n",
    "names = ['NB', 'DT', 'RF', 'SVM', 'LR', 'GB']\n",
    "values = [87.903, 99.052, 99.969, 99.879, 99.352, 99.771]\n",
    "f = plt.figure(figsize =(15, 3), num = 10)\n",
    "plt.subplot(131)\n",
    "plt.bar(names, values)\n",
    "\n"
   ]
  },
  {
   "cell_type": "code",
   "execution_count": null,
   "id": "3f0078a1",
   "metadata": {},
   "outputs": [],
   "source": [
    "\n",
    "names = ['NB', 'DT', 'RF', 'SVM', 'LR', 'GB']\n",
    "values = [1.11452, 2.44087, 17.08491, 218.26840, 92.94222, 633.229]\n",
    "f = plt.figure(figsize =(15, 3), num = 10)\n",
    "plt.subplot(131)\n",
    "plt.bar(names, values)\n",
    "\n"
   ]
  },
  {
   "cell_type": "code",
   "execution_count": null,
   "id": "e2e766c6",
   "metadata": {},
   "outputs": [],
   "source": [
    "\n",
    "names = ['NB', 'DT', 'RF', 'SVM', 'LR', 'GB']\n",
    "values = [1.54329, 0.14877, 0.199471, 126.50875, 0.09605, 2.95039]\n",
    "f = plt.figure(figsize =(15, 3), num = 10)\n",
    "plt.subplot(131)\n",
    "plt.bar(names, values)\n",
    "\n"
   ]
  }
 ],
 "metadata": {
  "kernelspec": {
   "display_name": "Python 3 (ipykernel)",
   "language": "python",
   "name": "python3"
  },
  "language_info": {
   "codemirror_mode": {
    "name": "ipython",
    "version": 3
   },
   "file_extension": ".py",
   "mimetype": "text/x-python",
   "name": "python",
   "nbconvert_exporter": "python",
   "pygments_lexer": "ipython3",
   "version": "3.9.13"
  }
 },
 "nbformat": 4,
 "nbformat_minor": 5
}
